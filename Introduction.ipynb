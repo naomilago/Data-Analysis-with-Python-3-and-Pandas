{
  "nbformat": 4,
  "nbformat_minor": 0,
  "metadata": {
    "kernelspec": {
      "display_name": "Python 3.7",
      "language": "python",
      "name": "python3"
    },
    "language_info": {
      "codemirror_mode": {
        "name": "ipython",
        "version": 3
      },
      "file_extension": ".py",
      "mimetype": "text/x-python",
      "name": "python",
      "nbconvert_exporter": "python",
      "pygments_lexer": "ipython3",
      "version": "3.7.10"
    },
    "colab": {
      "name": "Introduction.ipynb",
      "provenance": [],
      "toc_visible": true,
      "include_colab_link": true
    }
  },
  "cells": [
    {
      "cell_type": "markdown",
      "metadata": {
        "id": "view-in-github",
        "colab_type": "text"
      },
      "source": [
        "<a href=\"https://colab.research.google.com/github/naomilago/Data-Analysis-with-Python-3-and-Pandas/blob/master/Introduction.ipynb\" target=\"_parent\"><img src=\"https://colab.research.google.com/assets/colab-badge.svg\" alt=\"Open In Colab\"/></a>"
      ]
    },
    {
      "cell_type": "markdown",
      "metadata": {
        "collapsed": true,
        "id": "ydVlHAI4Ju5Q"
      },
      "source": [
        "<h1 style='color:#352459;'>Data Analysis with Python 3 an Pandas</h1>"
      ]
    },
    {
      "cell_type": "markdown",
      "metadata": {
        "id": "IisUexxkJu5W"
      },
      "source": [
        "<span style=\"color:#352459; font-weight:bold;\">NOTE:</span> In this notebook I'm following the <a style='color:#7952B3;' href='https://pythonprogramming.net/introduction-python3-pandas-data-analysis/'>pythonprogramming.net</a> material."
      ]
    },
    {
      "cell_type": "markdown",
      "metadata": {
        "id": "-66ai6bZJu5Y"
      },
      "source": [
        "<h2 style='color:#352459;'>Summary</h2>\n",
        "\n",
        "- <a href='#whatIsDataAnalysis' style='color:#7952B3;'>What is Data Analysis?</a>\n",
        "- <a href='#whatIsPandas' style='color:#7952B3;'>What is Pandas?</a>\n",
        "- <a href='#firstSteps' style='color:#7952B3;'>First steps</a>"
      ]
    },
    {
      "cell_type": "markdown",
      "metadata": {
        "id": "Dryo_85wJu5Z"
      },
      "source": [
        "<h2 id='whatIsDataAnalysis'>What is Data Analysis?</h2>"
      ]
    },
    {
      "cell_type": "markdown",
      "metadata": {
        "id": "yJ4B2CdGJu5a"
      },
      "source": [
        "⠀According to <a style='color:#7952B3;' href='https://monkeylearn.com/blog/data-analysis-examples'>Monkey Learn</a>, __Data Analysis__ is defined by the visualizing, interpreting, cleaning and _analyzing_ data process. This is intended to discover interesting insights that drive smarter and more effective business decisions. \n",
        "⠀Monkey Learn has listed in their website the best <a style='color:#7952B3;' href='https://monkeylearn.com/blog/data-analysis-tools/'>Data Analysis Tools</a>, as follow:\n",
        "\n",
        "<ol style=\"list-style-type: decimal\">\n",
        "<li><a style='color:#7952B3;' href=\"https://monkeylearn.com/\">MonkeyLearn</a> | Perform no-code text analysis</li>\n",
        "<li><a style='color:#7952B3;' href=\"https://monkeylearn.com/blog/data-analysis-tools/#rapidminer\">RapidMiner</a> | Build predictive analysis models</li>\n",
        "<li><a style='color:#7952B3;' href=\"https://monkeylearn.com/blog/data-analysis-tools/#knime\">KNIME</a> | Create data science workflows</li>\n",
        "<li><a style='color:#7952B3;' href=\"https://monkeylearn.com/blog/data-analysis-tools/#talend\">Talend</a> | Collect your data in a single platform</li>\n",
        "<li><a style='color:#7952B3;' href=\"https://monkeylearn.com/blog/data-analysis-tools/#excel\">Excel</a> | Use powerful data analysis formulas</li>\n",
        "<li><a style='color:#7952B3;' href=\"https://monkeylearn.com/blog/data-analysis-tools/#airtable\">Airtable</a> | Part spreadsheet, part database</li>\n",
        "<li><a style='color:#7952B3;' href=\"https://monkeylearn.com/blog/data-analysis-tools/#power-bi\">Power BI</a> | See your results in real time</li>\n",
        "<li><a style='color:#7952B3;' href=\"https://monkeylearn.com/blog/data-analysis-tools/#tableau\">Tableau</a> | Visualize your results in style</li>\n",
        "<li><a style='color:#7952B3;' href=\"https://monkeylearn.com/blog/data-analysis-tools/#clicdata\">ClicData</a> | Connect data and create interactive dashboards</li>\n",
        "<li><a style='color:#7952B3;' href=\"https://monkeylearn.com/blog/data-analysis-tools/#r\">R</a> | The programming language for exploratory data analysis</li>\n",
        "<li><a style='color:#7952B3;' href=\"https://monkeylearn.com/blog/data-analysis-tools/#python\">Python</a> | The programming language for magine learning</li>\n",
        "<li><a style='color:#7952B3;' href=\"https://monkeylearn.com/blog/data-analysis-tools/#qlik\">Qlik</a> | Perform in-memory data processing</li>\n",
        "<li><a style='color:#7952B3;' href=\"https://monkeylearn.com/blog/data-analysis-tools/#sas\">SAS Business Intelligence</a> | Easy-to-understand visualizations</li>\n",
        "<li><a style='color:#7952B3;' href=\"https://monkeylearn.com/blog/data-analysis-tools/#looker\">Looker</a> | Tailored analyticvs solutions</li>\n",
        "<li><a style='color:#7952B3;' href=\"https://monkeylearn.com/blog/data-analysis-tools/#sql\">SQL Programming Language</a> | Easily organize structured data</li>\n",
        "</ol>"
      ]
    },
    {
      "cell_type": "markdown",
      "metadata": {
        "id": "f0r8y-WPJu5e"
      },
      "source": [
        "<h2 id='whatisPandas'>What is Pandas?</h2>"
      ]
    },
    {
      "cell_type": "markdown",
      "metadata": {
        "id": "ns_6jZB1Ju5f"
      },
      "source": [
        "⠀According to <a style='color:#7952B3;' href='https://www.activestate.com/resources/quick-reads/what-is-pandas-in-python-everything-you-need-to-know/'>ActiveState</a>, Pandas is an open source Python package that is most widely used for Data Science/Data Analysis and Machine Learning tasks. It is build on top of another packaged named <a style='color:#7952B3;' href='https://www.activestate.com/products/python/python-packages/'>Numpy</a>, which provides support for multi-dimensional arrays. \n",
        "<br />\n",
        "⠀As one of the most popular data wrangling packages, Pandas works well with many other data science modules inside the Python ecosystem, and is typically included in every Python distribution, from those that come with your OS to commercial vendor distribuitions like ActiveState's <a style='color:#7952B3;' href='https://platform.activestate.com/featured-projects/'>ActivePython</a>.\n",
        "<br />\n",
        "⠀Pandas makes it simple to do many of the time consuming, repetitive tasks associated with working with data, including:\n",
        "\n",
        "- Data cleasing\n",
        "- Data fill\n",
        "- Data normalization\n",
        "- Merges and joins\n",
        "- Data visualization\n",
        "- Statistical analysis\n",
        "- Data inspection\n",
        "- Loading and saving data\n",
        "- And much more"
      ]
    },
    {
      "cell_type": "markdown",
      "metadata": {
        "id": "c27827cCJu5h"
      },
      "source": [
        "<h2 id='firstSteps'>First steps</h2>"
      ]
    },
    {
      "cell_type": "markdown",
      "metadata": {
        "id": "p_VpYsM1Ju5j"
      },
      "source": [
        "⠀Here we can see some of the basic commands for us to have our first steps with Pandas. <br />\n",
        "⠀The first thing we have to do is to ```import``` the ```pandas``` library in our code, and that we can use ```pd``` to deal with pandas."
      ]
    },
    {
      "cell_type": "code",
      "metadata": {
        "id": "63Np6-7-Ju5k"
      },
      "source": [
        "import pandas as pd # 'pd' is a common sense abbreviation for this library. "
      ],
      "execution_count": null,
      "outputs": []
    },
    {
      "cell_type": "markdown",
      "metadata": {
        "id": "xrM4qftAJu5l"
      },
      "source": [
        "⠀Now, I want to read a .csv file named `avocado.csv` that you can find it right <a style='color:#7952B3;' href='https://github.com/naomilago/Data-Analysis-with-Python-3-and-Pandas/blob/master/Assets/avocado.csv'>here</a>. <br />\n",
        "⠀After getting the file uri, I'll attribute it to a variable (`uri`) before using it with pandas. <br />\n",
        "⠀Then, I'll create a Data Frame variable (`dataFrame`) that contains the instruction to read a .csv file. <br />\n",
        "⠀Note that we're using the keyword `pd` which stands for the library we just imported with the function `read_csv()` - responsible for the data reading. \n",
        "⠀"
      ]
    },
    {
      "cell_type": "code",
      "metadata": {
        "id": "P73Kb5KEJu5m"
      },
      "source": [
        "uri = 'https://raw.githubusercontent.com/naomilago/Data-Analysis-with-Python-3-and-Pandas/master/Assets/avocado.csv'\n",
        "\n",
        "dataFrame = pd.read_csv(uri)"
      ],
      "execution_count": null,
      "outputs": []
    },
    {
      "cell_type": "markdown",
      "metadata": {
        "id": "Lzoy4vcpJu5n"
      },
      "source": [
        "⠀We might have so many rows in this file, so before showing it, let's know two other functions: `head()` and `tail()`. <br />\n",
        "- `head()` -> Shows the first 5 elements\n",
        "- `tail()` -> Shows the last 5 elements <br />\n",
        "\n",
        "⠀PS.: We can pass the number we want as a parameter to show more or less elementens (works for both functions)."
      ]
    },
    {
      "cell_type": "code",
      "metadata": {
        "id": "7X8K3w5UJu5o",
        "outputId": "68a8eea6-3e1d-4f2b-bb3d-ad29ca1bf68c"
      },
      "source": [
        "dataFrame.head(3)"
      ],
      "execution_count": null,
      "outputs": [
        {
          "output_type": "execute_result",
          "data": {
            "text/html": [
              "<div>\n",
              "<style scoped>\n",
              "    .dataframe tbody tr th:only-of-type {\n",
              "        vertical-align: middle;\n",
              "    }\n",
              "\n",
              "    .dataframe tbody tr th {\n",
              "        vertical-align: top;\n",
              "    }\n",
              "\n",
              "    .dataframe thead th {\n",
              "        text-align: right;\n",
              "    }\n",
              "</style>\n",
              "<table border=\"1\" class=\"dataframe\">\n",
              "  <thead>\n",
              "    <tr style=\"text-align: right;\">\n",
              "      <th></th>\n",
              "      <th>Unnamed: 0</th>\n",
              "      <th>Date</th>\n",
              "      <th>AveragePrice</th>\n",
              "      <th>Total Volume</th>\n",
              "      <th>4046</th>\n",
              "      <th>4225</th>\n",
              "      <th>4770</th>\n",
              "      <th>Total Bags</th>\n",
              "      <th>Small Bags</th>\n",
              "      <th>Large Bags</th>\n",
              "      <th>XLarge Bags</th>\n",
              "      <th>type</th>\n",
              "      <th>year</th>\n",
              "      <th>region</th>\n",
              "    </tr>\n",
              "  </thead>\n",
              "  <tbody>\n",
              "    <tr>\n",
              "      <th>0</th>\n",
              "      <td>0</td>\n",
              "      <td>2015-12-27</td>\n",
              "      <td>1.33</td>\n",
              "      <td>64236.62</td>\n",
              "      <td>1036.74</td>\n",
              "      <td>54454.85</td>\n",
              "      <td>48.16</td>\n",
              "      <td>8696.87</td>\n",
              "      <td>8603.62</td>\n",
              "      <td>93.25</td>\n",
              "      <td>0.0</td>\n",
              "      <td>conventional</td>\n",
              "      <td>2015</td>\n",
              "      <td>Albany</td>\n",
              "    </tr>\n",
              "    <tr>\n",
              "      <th>1</th>\n",
              "      <td>1</td>\n",
              "      <td>2015-12-20</td>\n",
              "      <td>1.35</td>\n",
              "      <td>54876.98</td>\n",
              "      <td>674.28</td>\n",
              "      <td>44638.81</td>\n",
              "      <td>58.33</td>\n",
              "      <td>9505.56</td>\n",
              "      <td>9408.07</td>\n",
              "      <td>97.49</td>\n",
              "      <td>0.0</td>\n",
              "      <td>conventional</td>\n",
              "      <td>2015</td>\n",
              "      <td>Albany</td>\n",
              "    </tr>\n",
              "    <tr>\n",
              "      <th>2</th>\n",
              "      <td>2</td>\n",
              "      <td>2015-12-13</td>\n",
              "      <td>0.93</td>\n",
              "      <td>118220.22</td>\n",
              "      <td>794.70</td>\n",
              "      <td>109149.67</td>\n",
              "      <td>130.50</td>\n",
              "      <td>8145.35</td>\n",
              "      <td>8042.21</td>\n",
              "      <td>103.14</td>\n",
              "      <td>0.0</td>\n",
              "      <td>conventional</td>\n",
              "      <td>2015</td>\n",
              "      <td>Albany</td>\n",
              "    </tr>\n",
              "  </tbody>\n",
              "</table>\n",
              "</div>"
            ],
            "text/plain": [
              "   Unnamed: 0        Date  AveragePrice  Total Volume     4046       4225  \\\n",
              "0           0  2015-12-27          1.33      64236.62  1036.74   54454.85   \n",
              "1           1  2015-12-20          1.35      54876.98   674.28   44638.81   \n",
              "2           2  2015-12-13          0.93     118220.22   794.70  109149.67   \n",
              "\n",
              "     4770  Total Bags  Small Bags  Large Bags  XLarge Bags          type  \\\n",
              "0   48.16     8696.87     8603.62       93.25          0.0  conventional   \n",
              "1   58.33     9505.56     9408.07       97.49          0.0  conventional   \n",
              "2  130.50     8145.35     8042.21      103.14          0.0  conventional   \n",
              "\n",
              "   year  region  \n",
              "0  2015  Albany  \n",
              "1  2015  Albany  \n",
              "2  2015  Albany  "
            ]
          },
          "metadata": {
            "tags": []
          },
          "execution_count": 3
        }
      ]
    },
    {
      "cell_type": "code",
      "metadata": {
        "id": "Sk-NwZwGJu5q",
        "outputId": "9577cc77-65bd-4ce4-d340-a1d939428b52"
      },
      "source": [
        "dataFrame.tail(6)"
      ],
      "execution_count": null,
      "outputs": [
        {
          "output_type": "execute_result",
          "data": {
            "text/html": [
              "<div>\n",
              "<style scoped>\n",
              "    .dataframe tbody tr th:only-of-type {\n",
              "        vertical-align: middle;\n",
              "    }\n",
              "\n",
              "    .dataframe tbody tr th {\n",
              "        vertical-align: top;\n",
              "    }\n",
              "\n",
              "    .dataframe thead th {\n",
              "        text-align: right;\n",
              "    }\n",
              "</style>\n",
              "<table border=\"1\" class=\"dataframe\">\n",
              "  <thead>\n",
              "    <tr style=\"text-align: right;\">\n",
              "      <th></th>\n",
              "      <th>Unnamed: 0</th>\n",
              "      <th>Date</th>\n",
              "      <th>AveragePrice</th>\n",
              "      <th>Total Volume</th>\n",
              "      <th>4046</th>\n",
              "      <th>4225</th>\n",
              "      <th>4770</th>\n",
              "      <th>Total Bags</th>\n",
              "      <th>Small Bags</th>\n",
              "      <th>Large Bags</th>\n",
              "      <th>XLarge Bags</th>\n",
              "      <th>type</th>\n",
              "      <th>year</th>\n",
              "      <th>region</th>\n",
              "    </tr>\n",
              "  </thead>\n",
              "  <tbody>\n",
              "    <tr>\n",
              "      <th>18243</th>\n",
              "      <td>6</td>\n",
              "      <td>2018-02-11</td>\n",
              "      <td>1.57</td>\n",
              "      <td>15986.17</td>\n",
              "      <td>1924.28</td>\n",
              "      <td>1368.32</td>\n",
              "      <td>0.00</td>\n",
              "      <td>12693.57</td>\n",
              "      <td>12437.35</td>\n",
              "      <td>256.22</td>\n",
              "      <td>0.0</td>\n",
              "      <td>organic</td>\n",
              "      <td>2018</td>\n",
              "      <td>WestTexNewMexico</td>\n",
              "    </tr>\n",
              "    <tr>\n",
              "      <th>18244</th>\n",
              "      <td>7</td>\n",
              "      <td>2018-02-04</td>\n",
              "      <td>1.63</td>\n",
              "      <td>17074.83</td>\n",
              "      <td>2046.96</td>\n",
              "      <td>1529.20</td>\n",
              "      <td>0.00</td>\n",
              "      <td>13498.67</td>\n",
              "      <td>13066.82</td>\n",
              "      <td>431.85</td>\n",
              "      <td>0.0</td>\n",
              "      <td>organic</td>\n",
              "      <td>2018</td>\n",
              "      <td>WestTexNewMexico</td>\n",
              "    </tr>\n",
              "    <tr>\n",
              "      <th>18245</th>\n",
              "      <td>8</td>\n",
              "      <td>2018-01-28</td>\n",
              "      <td>1.71</td>\n",
              "      <td>13888.04</td>\n",
              "      <td>1191.70</td>\n",
              "      <td>3431.50</td>\n",
              "      <td>0.00</td>\n",
              "      <td>9264.84</td>\n",
              "      <td>8940.04</td>\n",
              "      <td>324.80</td>\n",
              "      <td>0.0</td>\n",
              "      <td>organic</td>\n",
              "      <td>2018</td>\n",
              "      <td>WestTexNewMexico</td>\n",
              "    </tr>\n",
              "    <tr>\n",
              "      <th>18246</th>\n",
              "      <td>9</td>\n",
              "      <td>2018-01-21</td>\n",
              "      <td>1.87</td>\n",
              "      <td>13766.76</td>\n",
              "      <td>1191.92</td>\n",
              "      <td>2452.79</td>\n",
              "      <td>727.94</td>\n",
              "      <td>9394.11</td>\n",
              "      <td>9351.80</td>\n",
              "      <td>42.31</td>\n",
              "      <td>0.0</td>\n",
              "      <td>organic</td>\n",
              "      <td>2018</td>\n",
              "      <td>WestTexNewMexico</td>\n",
              "    </tr>\n",
              "    <tr>\n",
              "      <th>18247</th>\n",
              "      <td>10</td>\n",
              "      <td>2018-01-14</td>\n",
              "      <td>1.93</td>\n",
              "      <td>16205.22</td>\n",
              "      <td>1527.63</td>\n",
              "      <td>2981.04</td>\n",
              "      <td>727.01</td>\n",
              "      <td>10969.54</td>\n",
              "      <td>10919.54</td>\n",
              "      <td>50.00</td>\n",
              "      <td>0.0</td>\n",
              "      <td>organic</td>\n",
              "      <td>2018</td>\n",
              "      <td>WestTexNewMexico</td>\n",
              "    </tr>\n",
              "    <tr>\n",
              "      <th>18248</th>\n",
              "      <td>11</td>\n",
              "      <td>2018-01-07</td>\n",
              "      <td>1.62</td>\n",
              "      <td>17489.58</td>\n",
              "      <td>2894.77</td>\n",
              "      <td>2356.13</td>\n",
              "      <td>224.53</td>\n",
              "      <td>12014.15</td>\n",
              "      <td>11988.14</td>\n",
              "      <td>26.01</td>\n",
              "      <td>0.0</td>\n",
              "      <td>organic</td>\n",
              "      <td>2018</td>\n",
              "      <td>WestTexNewMexico</td>\n",
              "    </tr>\n",
              "  </tbody>\n",
              "</table>\n",
              "</div>"
            ],
            "text/plain": [
              "       Unnamed: 0        Date  AveragePrice  Total Volume     4046     4225  \\\n",
              "18243           6  2018-02-11          1.57      15986.17  1924.28  1368.32   \n",
              "18244           7  2018-02-04          1.63      17074.83  2046.96  1529.20   \n",
              "18245           8  2018-01-28          1.71      13888.04  1191.70  3431.50   \n",
              "18246           9  2018-01-21          1.87      13766.76  1191.92  2452.79   \n",
              "18247          10  2018-01-14          1.93      16205.22  1527.63  2981.04   \n",
              "18248          11  2018-01-07          1.62      17489.58  2894.77  2356.13   \n",
              "\n",
              "         4770  Total Bags  Small Bags  Large Bags  XLarge Bags     type  year  \\\n",
              "18243    0.00    12693.57    12437.35      256.22          0.0  organic  2018   \n",
              "18244    0.00    13498.67    13066.82      431.85          0.0  organic  2018   \n",
              "18245    0.00     9264.84     8940.04      324.80          0.0  organic  2018   \n",
              "18246  727.94     9394.11     9351.80       42.31          0.0  organic  2018   \n",
              "18247  727.01    10969.54    10919.54       50.00          0.0  organic  2018   \n",
              "18248  224.53    12014.15    11988.14       26.01          0.0  organic  2018   \n",
              "\n",
              "                 region  \n",
              "18243  WestTexNewMexico  \n",
              "18244  WestTexNewMexico  \n",
              "18245  WestTexNewMexico  \n",
              "18246  WestTexNewMexico  \n",
              "18247  WestTexNewMexico  \n",
              "18248  WestTexNewMexico  "
            ]
          },
          "metadata": {
            "tags": []
          },
          "execution_count": 4
        }
      ]
    },
    {
      "cell_type": "markdown",
      "metadata": {
        "id": "5klOSQEXJu5r"
      },
      "source": [
        "⠀What about filtering to just one table? Let's do it now."
      ]
    },
    {
      "cell_type": "code",
      "metadata": {
        "id": "Nb_Es04tJu5r",
        "outputId": "797535f8-24b7-42d7-ae65-714e917e5fb6"
      },
      "source": [
        "dataFrame['AveragePrice'].head()"
      ],
      "execution_count": null,
      "outputs": [
        {
          "output_type": "execute_result",
          "data": {
            "text/plain": [
              "0    1.33\n",
              "1    1.35\n",
              "2    0.93\n",
              "3    1.08\n",
              "4    1.28\n",
              "Name: AveragePrice, dtype: float64"
            ]
          },
          "metadata": {
            "tags": []
          },
          "execution_count": 5
        }
      ]
    },
    {
      "cell_type": "markdown",
      "metadata": {
        "id": "AAqADtpiJu5s"
      },
      "source": [
        "⠀We also have a filter for a specific value in a column. Let's create a new data frame to list just Spokane regions."
      ]
    },
    {
      "cell_type": "code",
      "metadata": {
        "id": "dWs5eBSiJu5s",
        "outputId": "3eddbc02-7fb5-4d6b-8471-3ba7514edc25"
      },
      "source": [
        "spokane_dataFrame = dataFrame[ dataFrame['region'] == 'Spokane']\n",
        "spokane_dataFrame.head()"
      ],
      "execution_count": null,
      "outputs": [
        {
          "output_type": "execute_result",
          "data": {
            "text/html": [
              "<div>\n",
              "<style scoped>\n",
              "    .dataframe tbody tr th:only-of-type {\n",
              "        vertical-align: middle;\n",
              "    }\n",
              "\n",
              "    .dataframe tbody tr th {\n",
              "        vertical-align: top;\n",
              "    }\n",
              "\n",
              "    .dataframe thead th {\n",
              "        text-align: right;\n",
              "    }\n",
              "</style>\n",
              "<table border=\"1\" class=\"dataframe\">\n",
              "  <thead>\n",
              "    <tr style=\"text-align: right;\">\n",
              "      <th></th>\n",
              "      <th>Unnamed: 0</th>\n",
              "      <th>Date</th>\n",
              "      <th>AveragePrice</th>\n",
              "      <th>Total Volume</th>\n",
              "      <th>4046</th>\n",
              "      <th>4225</th>\n",
              "      <th>4770</th>\n",
              "      <th>Total Bags</th>\n",
              "      <th>Small Bags</th>\n",
              "      <th>Large Bags</th>\n",
              "      <th>XLarge Bags</th>\n",
              "      <th>type</th>\n",
              "      <th>year</th>\n",
              "      <th>region</th>\n",
              "    </tr>\n",
              "  </thead>\n",
              "  <tbody>\n",
              "    <tr>\n",
              "      <th>2444</th>\n",
              "      <td>0</td>\n",
              "      <td>2015-12-27</td>\n",
              "      <td>1.05</td>\n",
              "      <td>67099.38</td>\n",
              "      <td>20577.16</td>\n",
              "      <td>21592.44</td>\n",
              "      <td>2889.97</td>\n",
              "      <td>22039.81</td>\n",
              "      <td>21900.09</td>\n",
              "      <td>0.00</td>\n",
              "      <td>139.72</td>\n",
              "      <td>conventional</td>\n",
              "      <td>2015</td>\n",
              "      <td>Spokane</td>\n",
              "    </tr>\n",
              "    <tr>\n",
              "      <th>2445</th>\n",
              "      <td>1</td>\n",
              "      <td>2015-12-20</td>\n",
              "      <td>1.12</td>\n",
              "      <td>61555.62</td>\n",
              "      <td>17819.26</td>\n",
              "      <td>16576.75</td>\n",
              "      <td>2660.37</td>\n",
              "      <td>24499.24</td>\n",
              "      <td>24499.24</td>\n",
              "      <td>0.00</td>\n",
              "      <td>0.00</td>\n",
              "      <td>conventional</td>\n",
              "      <td>2015</td>\n",
              "      <td>Spokane</td>\n",
              "    </tr>\n",
              "    <tr>\n",
              "      <th>2446</th>\n",
              "      <td>2</td>\n",
              "      <td>2015-12-13</td>\n",
              "      <td>0.99</td>\n",
              "      <td>67431.18</td>\n",
              "      <td>22229.24</td>\n",
              "      <td>20738.68</td>\n",
              "      <td>2189.59</td>\n",
              "      <td>22273.67</td>\n",
              "      <td>22269.39</td>\n",
              "      <td>4.28</td>\n",
              "      <td>0.00</td>\n",
              "      <td>conventional</td>\n",
              "      <td>2015</td>\n",
              "      <td>Spokane</td>\n",
              "    </tr>\n",
              "    <tr>\n",
              "      <th>2447</th>\n",
              "      <td>3</td>\n",
              "      <td>2015-12-06</td>\n",
              "      <td>0.85</td>\n",
              "      <td>100233.67</td>\n",
              "      <td>18780.00</td>\n",
              "      <td>39234.39</td>\n",
              "      <td>2758.78</td>\n",
              "      <td>39460.50</td>\n",
              "      <td>38946.79</td>\n",
              "      <td>513.71</td>\n",
              "      <td>0.00</td>\n",
              "      <td>conventional</td>\n",
              "      <td>2015</td>\n",
              "      <td>Spokane</td>\n",
              "    </tr>\n",
              "    <tr>\n",
              "      <th>2448</th>\n",
              "      <td>4</td>\n",
              "      <td>2015-11-29</td>\n",
              "      <td>1.17</td>\n",
              "      <td>51432.09</td>\n",
              "      <td>16876.93</td>\n",
              "      <td>16826.84</td>\n",
              "      <td>2523.85</td>\n",
              "      <td>15204.47</td>\n",
              "      <td>15204.47</td>\n",
              "      <td>0.00</td>\n",
              "      <td>0.00</td>\n",
              "      <td>conventional</td>\n",
              "      <td>2015</td>\n",
              "      <td>Spokane</td>\n",
              "    </tr>\n",
              "  </tbody>\n",
              "</table>\n",
              "</div>"
            ],
            "text/plain": [
              "      Unnamed: 0        Date  AveragePrice  Total Volume      4046      4225  \\\n",
              "2444           0  2015-12-27          1.05      67099.38  20577.16  21592.44   \n",
              "2445           1  2015-12-20          1.12      61555.62  17819.26  16576.75   \n",
              "2446           2  2015-12-13          0.99      67431.18  22229.24  20738.68   \n",
              "2447           3  2015-12-06          0.85     100233.67  18780.00  39234.39   \n",
              "2448           4  2015-11-29          1.17      51432.09  16876.93  16826.84   \n",
              "\n",
              "         4770  Total Bags  Small Bags  Large Bags  XLarge Bags          type  \\\n",
              "2444  2889.97    22039.81    21900.09        0.00       139.72  conventional   \n",
              "2445  2660.37    24499.24    24499.24        0.00         0.00  conventional   \n",
              "2446  2189.59    22273.67    22269.39        4.28         0.00  conventional   \n",
              "2447  2758.78    39460.50    38946.79      513.71         0.00  conventional   \n",
              "2448  2523.85    15204.47    15204.47        0.00         0.00  conventional   \n",
              "\n",
              "      year   region  \n",
              "2444  2015  Spokane  \n",
              "2445  2015  Spokane  \n",
              "2446  2015  Spokane  \n",
              "2447  2015  Spokane  \n",
              "2448  2015  Spokane  "
            ]
          },
          "metadata": {
            "tags": []
          },
          "execution_count": 8
        }
      ]
    },
    {
      "cell_type": "markdown",
      "metadata": {
        "id": "e9RCPehgJu5t"
      },
      "source": [
        "⠀There's an interesting thing to note called `index`. Indexes are some kind of identifiers and you can see them in the \"Unnamed: 0\" collumn above or in this list below."
      ]
    },
    {
      "cell_type": "code",
      "metadata": {
        "id": "9lMTgUwLJu5t",
        "outputId": "19620c62-dd5c-452d-e146-510552a881c1"
      },
      "source": [
        "spokane_dataFrame.index"
      ],
      "execution_count": null,
      "outputs": [
        {
          "output_type": "execute_result",
          "data": {
            "text/plain": [
              "Int64Index([ 2444,  2445,  2446,  2447,  2448,  2449,  2450,  2451,  2452,\n",
              "             2453,\n",
              "            ...\n",
              "            18167, 18168, 18169, 18170, 18171, 18172, 18173, 18174, 18175,\n",
              "            18176],\n",
              "           dtype='int64', length=338)"
            ]
          },
          "metadata": {
            "tags": []
          },
          "execution_count": 9
        }
      ]
    },
    {
      "cell_type": "markdown",
      "metadata": {
        "id": "gHmE8K8iJu5u"
      },
      "source": [
        "⠀Now, if we want to see all the unique values from a table, guess what we need to use? Exactly. An `unique()` function."
      ]
    },
    {
      "cell_type": "code",
      "metadata": {
        "id": "1UPLHSHCJu5v",
        "outputId": "3e6936ba-583a-44bb-b779-d370ab42f00f"
      },
      "source": [
        "dataFrame['region'].unique()"
      ],
      "execution_count": null,
      "outputs": [
        {
          "output_type": "execute_result",
          "data": {
            "text/plain": [
              "array(['Albany', 'Atlanta', 'BaltimoreWashington', 'Boise', 'Boston',\n",
              "       'BuffaloRochester', 'California', 'Charlotte', 'Chicago',\n",
              "       'CincinnatiDayton', 'Columbus', 'DallasFtWorth', 'Denver',\n",
              "       'Detroit', 'GrandRapids', 'GreatLakes', 'HarrisburgScranton',\n",
              "       'HartfordSpringfield', 'Houston', 'Indianapolis', 'Jacksonville',\n",
              "       'LasVegas', 'LosAngeles', 'Louisville', 'MiamiFtLauderdale',\n",
              "       'Midsouth', 'Nashville', 'NewOrleansMobile', 'NewYork',\n",
              "       'Northeast', 'NorthernNewEngland', 'Orlando', 'Philadelphia',\n",
              "       'PhoenixTucson', 'Pittsburgh', 'Plains', 'Portland',\n",
              "       'RaleighGreensboro', 'RichmondNorfolk', 'Roanoke', 'Sacramento',\n",
              "       'SanDiego', 'SanFrancisco', 'Seattle', 'SouthCarolina',\n",
              "       'SouthCentral', 'Southeast', 'Spokane', 'StLouis', 'Syracuse',\n",
              "       'Tampa', 'TotalUS', 'West', 'WestTexNewMexico'], dtype=object)"
            ]
          },
          "metadata": {
            "tags": []
          },
          "execution_count": 12
        }
      ]
    },
    {
      "cell_type": "code",
      "metadata": {
        "id": "JbTx38EJKcF0"
      },
      "source": [
        "dataFrame"
      ],
      "execution_count": null,
      "outputs": []
    }
  ]
}