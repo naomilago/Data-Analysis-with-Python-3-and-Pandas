{
    "cells": [
        {
            "cell_type": "markdown",
            "metadata": {
                "collapsed": true
            },
            "source": "<h1 style='color:#352459;'>Data Analysis with Python 3 an Pandas</h1>"
        },
        {
            "cell_type": "markdown",
            "metadata": {},
            "source": "<span style=\"color:#352459; font-weight:bold;\">NOTE:</span> In this notebook I'm following the <a style='color:#7952B3;' href='https://pythonprogramming.net/introduction-python3-pandas-data-analysis/'>pythonprogramming.net</a> material."
        },
        {
            "cell_type": "markdown",
            "metadata": {},
            "source": "<h2 style='color:#352459;'>Summary</h2>\n\n- <a href='#whatIsDataAnalysis' style='color:#7952B3;'>What is Data Analysis?</a>\n- <a href='#whatIsPandas' style='color:#7952B3;'>What is Pandas?</a>"
        },
        {
            "cell_type": "markdown",
            "metadata": {},
            "source": "<h2 id='whatIsDataAnalysis'>What is Data Analysis?</h2>"
        },
        {
            "cell_type": "markdown",
            "metadata": {},
            "source": "\u2800According to <a style='color:#7952B3;' href='https://monkeylearn.com/blog/data-analysis-examples'>Monkey Learn</a>, __Data Analysis__ is defined by the visualizing, interpreting, cleaning and _analyzing_ data process. This is intended to discover interesting insights that drive smarter and more effective business decisions. \n\u2800Monkey Learn has listed in their website the best <a style='color:#7952B3;' href='https://monkeylearn.com/blog/data-analysis-tools/'>Data Analysis Tools</a>, as follow:\n\n<ol style=\"list-style-type: decimal\">\n<li><a style='color:#7952B3;' href=\"https://monkeylearn.com/\">MonkeyLearn</a> | Perform no-code text analysis</li>\n<li><a style='color:#7952B3;' href=\"https://monkeylearn.com/blog/data-analysis-tools/#rapidminer\">RapidMiner</a> | Build predictive analysis models</li>\n<li><a style='color:#7952B3;' href=\"https://monkeylearn.com/blog/data-analysis-tools/#knime\">KNIME</a> | Create data science workflows</li>\n<li><a style='color:#7952B3;' href=\"https://monkeylearn.com/blog/data-analysis-tools/#talend\">Talend</a> | Collect your data in a single platform</li>\n<li><a style='color:#7952B3;' href=\"https://monkeylearn.com/blog/data-analysis-tools/#excel\">Excel</a> | Use powerful data analysis formulas</li>\n<li><a style='color:#7952B3;' href=\"https://monkeylearn.com/blog/data-analysis-tools/#airtable\">Airtable</a> | Part spreadsheet, part database</li>\n<li><a style='color:#7952B3;' href=\"https://monkeylearn.com/blog/data-analysis-tools/#power-bi\">Power BI</a> | See your results in real time</li>\n<li><a style='color:#7952B3;' href=\"https://monkeylearn.com/blog/data-analysis-tools/#tableau\">Tableau</a> | Visualize your results in style</li>\n<li><a style='color:#7952B3;' href=\"https://monkeylearn.com/blog/data-analysis-tools/#clicdata\">ClicData</a> | Connect data and create interactive dashboards</li>\n<li><a style='color:#7952B3;' href=\"https://monkeylearn.com/blog/data-analysis-tools/#r\">R</a> | The programming language for exploratory data analysis</li>\n<li><a style='color:#7952B3;' href=\"https://monkeylearn.com/blog/data-analysis-tools/#python\">Python</a> | The programming language for magine learning</li>\n<li><a style='color:#7952B3;' href=\"https://monkeylearn.com/blog/data-analysis-tools/#qlik\">Qlik</a> | Perform in-memory data processing</li>\n<li><a style='color:#7952B3;' href=\"https://monkeylearn.com/blog/data-analysis-tools/#sas\">SAS Business Intelligence</a> | Easy-to-understand visualizations</li>\n<li><a style='color:#7952B3;' href=\"https://monkeylearn.com/blog/data-analysis-tools/#looker\">Looker</a> | Tailored analyticvs solutions</li>\n<li><a style='color:#7952B3;' href=\"https://monkeylearn.com/blog/data-analysis-tools/#sql\">SQL Programming Language</a> | Easily organize structured data</li>\n</ol>"
        },
        {
            "cell_type": "markdown",
            "metadata": {},
            "source": "<h2 id='whatisPandas'>What is Pandas?</h2>"
        },
        {
            "cell_type": "markdown",
            "metadata": {},
            "source": "\u2800According to <a style='color:#7952B3;' href='https://www.activestate.com/resources/quick-reads/what-is-pandas-in-python-everything-you-need-to-know/'>ActiveState</a>, Pandas is an open source Python package that is most widely used for Data Science/Data Analysis and Machine Learning tasks. It is build on top of another packaged named <a style='color:#7952B3;' href='https://www.activestate.com/products/python/python-packages/'>Numpy</a>, which provides support for multi-dimensional arrays. As one of the most popular data wrangling packages, Pandas works well with many other data science modules inside the Python ecosystem, and is typically included in every Python distribution, from those that come with your OS to commercial vendor distribuitions like ActiveState's <a style='color:#7952B3;' href='https://platform.activestate.com/featured-projects/'>ActivePython</a>.\n\u2800Pandas makes it simple to do many of the time consuming, repetitive tasks associated with working with data, including:\n\n- Data cleasing\n- Data fill\n- Data normalization\n- Merges and joins\n- Data visualization\n- Statistical analysis\n- Data inspection\n- Loading and saving data\n- And much more"
        }
    ],
    "metadata": {
        "kernelspec": {
            "display_name": "Python 3.7",
            "language": "python",
            "name": "python3"
        },
        "language_info": {
            "codemirror_mode": {
                "name": "ipython",
                "version": 3
            },
            "file_extension": ".py",
            "mimetype": "text/x-python",
            "name": "python",
            "nbconvert_exporter": "python",
            "pygments_lexer": "ipython3",
            "version": "3.7.10"
        }
    },
    "nbformat": 4,
    "nbformat_minor": 1
}