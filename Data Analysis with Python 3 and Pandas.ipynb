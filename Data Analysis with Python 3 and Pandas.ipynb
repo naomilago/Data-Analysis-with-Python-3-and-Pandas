{
    "cells": [
        {
            "cell_type": "markdown",
            "metadata": {
                "collapsed": true
            },
            "source": "# Data Analysis with Python 3 and Pandas"
        },
        {
            "cell_type": "markdown",
            "metadata": {},
            "source": "## Summary\n\n- <a href='#whatIsDataAnalysis'>What is Data Analysis?</a>\n- <a href='#whatIsPandas'>What is Pandas?</a>"
        },
        {
            "cell_type": "markdown",
            "metadata": {},
            "source": "<h2 id='whatIsDataAnalysis'>What is Data Analysis?</h2>"
        },
        {
            "cell_type": "markdown",
            "metadata": {},
            "source": ""
        },
        {
            "cell_type": "markdown",
            "metadata": {},
            "source": "<h2 id='whatisPandas'>What is Pandas?</h2>"
        },
        {
            "cell_type": "markdown",
            "metadata": {},
            "source": ""
        }
    ],
    "metadata": {
        "kernelspec": {
            "display_name": "Python 3.7",
            "language": "python",
            "name": "python3"
        },
        "language_info": {
            "codemirror_mode": {
                "name": "ipython",
                "version": 3
            },
            "file_extension": ".py",
            "mimetype": "text/x-python",
            "name": "python",
            "nbconvert_exporter": "python",
            "pygments_lexer": "ipython3",
            "version": "3.7.10"
        }
    },
    "nbformat": 4,
    "nbformat_minor": 1
}